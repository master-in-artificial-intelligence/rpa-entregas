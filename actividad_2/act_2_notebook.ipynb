{
 "cells": [
  {
   "cell_type": "markdown",
   "metadata": {
    "id": "OZPZKqwCPRK_"
   },
   "source": [
    "# Actividad :  Resolución de problema mediante búsqueda heurística"
   ]
  },
  {
   "cell_type": "markdown",
   "metadata": {},
   "source": [
    "## Enunciado de la actividad\n",
    "\n",
    "En esta actividad has de utilizar la estrategia de búsqueda heurística A* con el fin de generar un plan que permita al robot de Amazon mover el inventario de un estado inicial a un estado objetivo. \n",
    "\n",
    "### Estado inicial\n",
    "\n",
    "El estado inicial del problema lo vamos a representar en una mátriz 4x4 de carácteres de la siguiente manera:\n",
    "\n",
    "![texto alternativo](https://drive.google.com/uc?export=view&id=1Mzml6909YsiwqCB77-xeLYRoVt93uLKg)\t\t\n",
    "\n",
    "Donde, \n",
    "\n",
    "*   R: representa el robot. Inicialmente está ubicado en la posición [2,2]\n",
    "*   \\#: representa una pared. \n",
    "*   M1, M2, e M3: representan los tres inventarios que el robot debe mover. Y se encuentran ubicadas en las posiciones [0,0], [2,0] y [0,3] respectivamente.\n",
    "\n",
    "\n",
    "### Estado Objetivo \n",
    "\n",
    "El robot debe mover los 3 inventarios, M1, M2 y M3, a la siguientes posiciones:\n",
    "\n",
    "\n",
    "![texto alternativo](https://drive.google.com/uc?export=view&id=1rhaD4HXNAHjp9v2algygF38-OVNePBSe)"
   ]
  },
  {
   "cell_type": "markdown",
   "metadata": {},
   "source": [
    "## Solución propuesta\n",
    "\n",
    "Antes de empezar a programar el algoritmo A$^{*}$ debemos definir la estrucura de dato con la que trabajaremos. Dicha estructura debe contener la información adecuada para identificar a cada uno de los posibles 'nodos' por los que podrá moverse el robot.\n",
    "\n",
    "Para ello, hemos definido la siguiente clase en Python, que contiene los siguientes datos:\n",
    "<ul>\n",
    "    <li>valor: propiedad de tipo string que identificará qué tipo de nodo es ('#' será pared, 'M*' inventario, 'R' robot, o '' nodo vacío)\n",
    "    <li>posicion:La posicion del nodo dentro del conjunto (2 dimensiones)\n",
    "    <li>padre: Nodo padre al que pertenece este nodo. En un principio será nulo porque no lo sabemos, pero el algoritmo A$^{*}$ será el encargado de ir dando valor a esta propiedad.\n",
    "    <li>G: valor de g(n) que utilizará el algoritmo\n",
    "    <li>H valor de h(n) que utilizará el algoritmo\n",
    "</ul>"
   ]
  },
  {
   "cell_type": "code",
   "execution_count": 1,
   "metadata": {},
   "outputs": [],
   "source": [
    "class Node:\n",
    "    \"\"\"\n",
    "    La clase Node contiene la estructura y los parámetros necesarios en cada nodo\n",
    "    para que el algoritmo A* sea capaz de calcular la ruta adecuada\n",
    "    :param valor: valor o nombre del nodo (R-Robot, #-Pared, M1-Inventario1...)\n",
    "    :param posicion: posición bidimensional del nodo en la matriz\n",
    "    :param padre: Valor del nodo padre, por defecto nulo\n",
    "    :param H: valor de h(n) calculado para ese nodo durante la ejecución del algoritmo, por defecto 0\n",
    "    :param G: valor de g(n) calculado para ese nodo durante la ejecución del algoritmo, por defecto 0\n",
    "    \"\"\"\n",
    "    def __init__(self, valor, posicion):\n",
    "        self.valor = valor\n",
    "        self.posicion = posicion\n",
    "        self.padre = None\n",
    "        self.H = 0\n",
    "        self.G = 0"
   ]
  },
  {
   "cell_type": "markdown",
   "metadata": {},
   "source": [
    "La siguiente función sirve para calcular la distancia de Manhattan entre dos puntos dados (nodos)"
   ]
  },
  {
   "cell_type": "code",
   "execution_count": 2,
   "metadata": {},
   "outputs": [],
   "source": [
    "def manhattan_distance(origen, destino):\n",
    "    \"\"\"\n",
    "    Esta funcion calcula la distancia de manhattan entre dos vectores\n",
    "    :param origen:  vector uno\n",
    "    :param destino: vector dos\n",
    "    :return: la distancia Manhattan entre dos vectores\n",
    "    \"\"\"\n",
    "    return abs(origen[0] - destino[0]) + abs(origen[1] - destino[1])"
   ]
  },
  {
   "cell_type": "markdown",
   "metadata": {},
   "source": [
    "A continuación, se definen las tres funciones core del algoritmo, ya que son las que se encargan de resolver el problema para que el robot actúe como se pide en el enunciado:\n",
    "\n",
    "<ul>\n",
    "    <li><b>a_star</b>: Esta función es la implementación del algoritmo A$^{*}$. Le pasamos el nodo inicio, el nodo destino, y el conjunto de nodos totales. Con esta información, calculará y devolverá la ruta más adecuada (si la encuentra). En caso de que no encuentre ninguna ruta, lanza una excepción para evitar que entre en un bucle infinito.\n",
    "    <li><b>get_vecinos</b>: Esta función es utilizada por el algoritmo A$^{*}$ en cada una de las iteraciones que realiza. Sirve para calcular los vecinos posibles de cada nodo y planificar el siguiente movimiento del robot. Además, tiene en cuenta que hay ciertos nodos que no pueden ser atravesados, por ejemplo las paredes y/o los inventarios.\n",
    "    <li><b>actualiza_tabla</b>: Una vez se ha encontrado una ruta entre dos puntos, simulamos el movimiento del robot, de modo que la posición de partida del robot para el siguiente movimiento sea la posición final del movimiento anterior. Además, simula también el movimiento de los inventarios\n",
    "</ul>"
   ]
  },
  {
   "cell_type": "code",
   "execution_count": 3,
   "metadata": {
    "colab": {
     "base_uri": "https://localhost:8080/"
    },
    "id": "soh4abfklhLm",
    "outputId": "8dafd3b6-c22e-44cb-9b00-daa65c9799f6"
   },
   "outputs": [],
   "source": [
    "def a_star(inicio, destino, tabla):\n",
    "    \"\"\"\n",
    "    Implementación del algoritmo A*\n",
    "    :param inicio: nodo de partida para la búsqueda\n",
    "    :param destino: nodo de destino al que queremos llegar\n",
    "    :param tabla: matriz con la información de todos los nodos\n",
    "    :return: Devuelve la ruta encontrada desde el inicio hasta el destino en base a la f(n) = g(n) + h(n) óptima\n",
    "    \"\"\"\n",
    "    # Definimos los sets donde iremos guardando elementos de la busqueda\n",
    "    cola_abierta = set()\n",
    "    cola_cerrada = set()\n",
    "    # Posicion actual sera la inicial\n",
    "    actual = inicio\n",
    "    cola_abierta.add(actual)\n",
    " \n",
    "    while cola_abierta:\n",
    "        # Teniendo en cuenta que f(n) = g(n) + h(n), buscamos el nodo con menor f(n)\n",
    "        actual = min(cola_abierta, key=lambda nodo:nodo.G + nodo.H)\n",
    "        \n",
    "        # Si ya hemos llegado al nodo destino, devolvemos la ruta\n",
    "        if actual == destino:\n",
    "            ruta = []\n",
    "            while actual.padre:\n",
    "                ruta.append(actual)\n",
    "                actual = actual.padre\n",
    "            ruta.append(actual)\n",
    "            return ruta[::-1]\n",
    "        \n",
    "        # Si no, eliminamos el nodo de la cola abierta\n",
    "        cola_abierta.remove(actual)\n",
    "        \n",
    "        # Y lo introducimos en la cola cerrada (visitado)\n",
    "        cola_cerrada.add(actual)\n",
    "        \n",
    "        # Iteramos sobre los vecinos posibles del nodo actual y evaluamos\n",
    "        for nodo in get_vecinos(actual, tabla, destino.valor):\n",
    "\n",
    "            # Si ya lo hemos visitado, continuamos\n",
    "            if nodo in cola_cerrada:\n",
    "                continue\n",
    "            \n",
    "            # Si está en la cola abierta, evaluamos\n",
    "            if nodo in cola_abierta:\n",
    "                # Comprobamos si obtenemos un mejor valor de g(n)\n",
    "                # usamos 1 porque el coste que se indica en el enunciado\n",
    "                nuevo_g = actual.G + 1\n",
    "                # si se cumple la condición, actualizamos el nodo padre\n",
    "                if nodo.G > nuevo_g:\n",
    "                    nodo.G = nuevo_g\n",
    "                    nodo.padre = actual\n",
    "            else:\n",
    "                # Si no está en la cola abierta, calculamos G y H para el nodo\n",
    "                # usamos 1 porque el coste que se indica en el enunciado\n",
    "                nodo.G = actual.G + 1\n",
    "                nodo.H = manhattan_distance(nodo.posicion, destino.posicion)\n",
    "                # Ahora el odo padre será el actual\n",
    "                nodo.padre = actual\n",
    "                # Lo añadimos a la cola abierta\n",
    "                cola_abierta.add(nodo)\n",
    "                \n",
    "    raise Exception('No se ha podido encontrar ninguna ruta')\n",
    "                \n",
    "\n",
    "def get_vecinos(nodo, tabla, destino):\n",
    "    \"\"\"\n",
    "    Esta función sirve para calcular los posibles movimientos desde el nodo actual (vecinos). Para ello tiene en cuenta\n",
    "    los nodos que han sido configurados como 'pared', y aquellos que se salen de las dimensiones del tablero\n",
    "    :param nodo: nodo actual desde el que queremos calcular los vecinos\n",
    "    :param tabla: tablero con toda la información de los nodos\n",
    "    :param destino: nodo de destino al que debe dirigirse el robot\n",
    "    \"\"\"\n",
    "    x,y = nodo.posicion\n",
    "    vecinos = []\n",
    "    \n",
    "    # Estas son las posiciones prohibidas pro defecto\n",
    "    posiciones_prohibidas = ['#', 'M1', 'M2', 'M3']\n",
    "    \n",
    "    # En caso de que el destino sea un inventario,  eliminamos ese valor \n",
    "    # de las posiciones prohibidas para que el robot pueda llegar a esa posición\n",
    "    if destino in posiciones_prohibidas:\n",
    "        posiciones_prohibidas.remove(destino)\n",
    "        \n",
    "    # cada nodo puede tener hasta 4 vecinos (excluyendo paredes e inventarios)\n",
    "    if y+1 < len(tabla):\n",
    "        if tabla[x][y+1] != None and tabla[x][y+1].valor not in posiciones_prohibidas: vecinos.append(tabla[x][y+1])\n",
    "    if x+1 < len(tabla):\n",
    "        if tabla[x+1][y] != None and tabla[x+1][y].valor not in posiciones_prohibidas: vecinos.append(tabla[x+1][y])\n",
    "    if x-1 >= 0:\n",
    "        if tabla[x-1][y] != None and tabla[x-1][y].valor not in posiciones_prohibidas: vecinos.append(tabla[x-1][y])\n",
    "    if y-1 >= 0:\n",
    "        if tabla[x][y-1] != None and tabla[x][y-1].valor not in posiciones_prohibidas: vecinos.append(tabla[x][y-1])\n",
    "    return vecinos\n",
    "            \n",
    "def actualiza_tabla(tabla, movimientos):\n",
    "    \"\"\"\n",
    "    Esta función sirve para actualizar el estado de los nodos en el tablero después de cada ejecución del algoritmo\n",
    "    :param tabla: tablero con el estado inicial de los nodos\n",
    "    :param movimientos: movimientos ejecutados por el algoritmo que deben ser actualizados en el tablero\n",
    "    :return: el tablero actualizado\n",
    "    \"\"\"\n",
    "    x_origen, y_origen = movimientos[0].posicion\n",
    "    x_destino, y_destino = movimientos[-1:][0].posicion\n",
    "    \n",
    "    valor_origen = movimientos[0].valor\n",
    "    valor_destino = movimientos[-1:][0].valor\n",
    "    \n",
    "    if valor_origen == 'R':\n",
    "        tabla[x_origen][y_origen].valor = ''\n",
    "    \n",
    "    if tabla[x_destino][y_destino].valor == '':\n",
    "        tabla[x_destino][y_destino].valor = valor_origen  \n",
    "        tabla[x_origen][y_origen].valor = ''\n",
    "    elif valor_origen != 'R' and valor_destino not in ['#', 'M1', 'M2', 'M3']:\n",
    "        tabla[x_destino][y_destino].valor = valor_origen\n",
    "        \n",
    "    # Reseteamos valores para el cálculo de nuevas búsquedas\n",
    "    for i in range(len(tabla)):\n",
    "        for j in range(len(tabla[i])):\n",
    "            tabla[i][j].padre = None\n",
    "            tabla[i][j].H = 0\n",
    "            tabla[i][j].G = 0        "
   ]
  },
  {
   "cell_type": "markdown",
   "metadata": {},
   "source": [
    "Las siguientes funciones son auxiliares y nos sirven para mostrar por pantalla el funcionamiento del algoritmo y los pasos que va realizando antes los movimientos que le indicamos.\n",
    "\n",
    "<ul>\n",
    "    <li><b>imprime_tabla: </b>Muestra en pantalla el tablero según el estado en el que se encuentra. Además, tienen en cuenta la ruta realizada, la cual pinta de color azul clarito para indicar los nodos por los que ha pasado el robot. Finalmente, pinta en color oscuro el nodo en el que se encuentra el robot.\n",
    "    <li><b>prettify_ruta: </b>Simplemente recibe la ruta obtenida por el algoritmo A$^{*}$ y crea una cadena de texto donde se guardan de forma más legible las coordenadas de los nodos que ha visitado el robot. Servirá para poder imprimirla por pantalla.\n",
    "</ul>"
   ]
  },
  {
   "cell_type": "code",
   "execution_count": 4,
   "metadata": {},
   "outputs": [],
   "source": [
    "import numpy as np\n",
    "import matplotlib.pylab as pl\n",
    "import matplotlib.ticker as ticker\n",
    "\n",
    "def imprime_tabla(tabla, nodos_visitados):\n",
    "    \"\"\"\n",
    "    Esta función sirve para imprimir por pantalla el estado actual de la tabla\n",
    "    Además, pinta en color azul la celda en la que se encuentra el Robot en cada instante\n",
    "    :param tabla: el conjunto de todos los nodos del tablero con sus estados correspondientes\n",
    "    :param nodos_visitados: la lista de nodos visitados en la ruta realizada, que será remarcada de color azul\n",
    "    \"\"\"\n",
    "    data = []\n",
    "\n",
    "    for i in range(len(tabla)):\n",
    "        lista_fila = []\n",
    "        for j in range(len(tabla[i])):\n",
    "            lista_fila.append(str(tabla[i][j].valor))\n",
    "        data.append(lista_fila)\n",
    "        \n",
    "    # hacemos uso de la librería matplotlib para mostrar la tabla por pantalla\n",
    "    pl.figure()\n",
    "    tb = pl.table(cellText=data, loc=(0,0), cellLoc='center')\n",
    "       \n",
    "    # este bucle sirve para pintar de color azul la ruta de color azul claro\n",
    "    for nodo in nodos_visitados:\n",
    "        tb[nodo.posicion].set_facecolor('#cce9ff')  \n",
    "    # después pintamos la posición final (robot) de un color azul más oscuro\n",
    "    tb[nodos_visitados[-1:][0].posicion].set_facecolor('#56b5fd')\n",
    "\n",
    "    for cell in tb.get_children(): \n",
    "        cell.set_fontsize(14)\n",
    "        cell.set_height(1/len(tabla[0]))\n",
    "        cell.set_width(1/len(tabla))\n",
    "\n",
    "    ax = pl.gca()\n",
    "    ax.set_xticks([])\n",
    "    ax.set_yticks([])\n",
    "\n",
    "    # nostramos el valor de cada celda de forma centrada\n",
    "    ax.xaxis.tick_top()\n",
    "    ax.xaxis.set_minor_locator(ticker.FixedLocator([0.127,0.37,0.625,0.867]))\n",
    "    ax.xaxis.set_minor_formatter(ticker.FixedFormatter(['0','1','2','3']))\n",
    "    ax.yaxis.set_minor_locator(ticker.FixedLocator([0.127,0.37,0.625,0.867]))\n",
    "    ax.yaxis.set_minor_formatter(ticker.FixedFormatter(['3','2','1','0']))\n",
    "    \n",
    "def prettify_ruta(ruta):\n",
    "    \"\"\"\n",
    "    Esta función sirve para hacer más legibles los nodos indicados en la ruta para poder llevar el 'tracking' del robot\n",
    "    :param ruta: lista con cada uno de los nodos visitados por el robot. Esta lista es directamente \n",
    "    el valor que devuelve el algoritmo A*\n",
    "    :return cadena de texto con los nodos visitados en formato (x1,y1) --> (x2, y2) ...\n",
    "    \"\"\"\n",
    "    ruta_str = ''\n",
    "    if not ruta:\n",
    "        raise Exception('La ruta debe ser especificada')\n",
    "    else:\n",
    "        # iteramos sobre las posiciones de los nodos y creamos cadena de texto\n",
    "        for nodo in ruta:\n",
    "            x, y = nodo.posicion\n",
    "            if ruta_str:\n",
    "                ruta_str += '-->'\n",
    "            ruta_str += '(' + str(x) + ',' + str(y) + ')'\n",
    "    return ruta_str"
   ]
  },
  {
   "cell_type": "markdown",
   "metadata": {},
   "source": [
    "Ahora ya tenemos todo listo para solventar el problema. El siguiente paso es transformar la información del tablero original en algo que podamos pasarle al algoritmo y que pueda entender. \n",
    "\n",
    "Para ello hacemos uso de la estructura de datos definida al principio, de modo que crearemos un array bidimensional de nodos con la información que se nos da.\n",
    "\n",
    "Posteriormente, definiremos las posiciones origen y destino de cada uno de los inventarios, ya que serán el enunciado del problema que debe resolver el robot."
   ]
  },
  {
   "cell_type": "code",
   "execution_count": 5,
   "metadata": {},
   "outputs": [
    {
     "data": {
      "image/png": "[encoded data removed]",
      "text/plain": [
       "<Figure size 432x288 with 1 Axes>"
      ]
     },
     "metadata": {},
     "output_type": "display_data"
    }
   ],
   "source": [
    "# Definimos el tablero de nodos para simular el estado inicial del enunciado\n",
    "tabla = [\n",
    "    [Node('M1', (0,0))  , Node('#', (0,1)), Node('' , (0,2)), Node('M3', (0,3))],\n",
    "    [Node(''  , (1,0))  , Node('#', (1,1)), Node('' , (1,2)), Node(''  , (1,3))],\n",
    "    [Node('M2', (2,0))  , Node('' , (2,1)), Node('R', (2,2)), Node(''  , (2,3))],\n",
    "    [Node(''  , (3,0))  , Node('' , (3,1)), Node('' , (3,2)), Node(''  , (3,3))]\n",
    "]\n",
    "\n",
    "# posicion robot\n",
    "posicion_robot = tabla[2][2]\n",
    "\n",
    "# posiciones M2\n",
    "posicion_m2_origen = tabla[2][0]\n",
    "posicion_m2_destino = tabla[3][2]\n",
    "\n",
    "# posiciones M1\n",
    "posicion_m1_origen = tabla[0][0]\n",
    "posicion_m1_destino = tabla[3][3]\n",
    "\n",
    "# posiciones M3\n",
    "posicion_m3_origen = tabla[0][3]\n",
    "posicion_m3_destino = tabla[3][1]\n",
    "\n",
    "# Imprimimos por pantalla el tablero para comprobar que todo está OK\n",
    "imprime_tabla(tabla, [posicion_robot])"
   ]
  },
  {
   "cell_type": "markdown",
   "metadata": {},
   "source": [
    "Ejecución del algoritmo para mover los inventarios desde la posición en la que se encuentran a la posición destino utilizando el robot. Se parten de las siguientes premisas:\n",
    "\n",
    "<ul>\n",
    "<li>Movimiento 1: Robot recoge M2 de posición origen</li>\n",
    "<li>Movimiento 2: Robot mueve M2 de posición origen a posición destino</li>\n",
    "<li>Movimiento 3: Robot recoge M1 de posición origen</li>\n",
    "<li>Movimiento 4: Robot mueve M1 de posición origen a posición destino</li>\n",
    "<li>Movimiento 5: Robot recoge M3 de posición origen</li>\n",
    "<li>Movimiento 6: Robot mueve M3 de posición origen a posición destino</li>\n",
    "</ul>"
   ]
  },
  {
   "cell_type": "code",
   "execution_count": 6,
   "metadata": {},
   "outputs": [
    {
     "name": "stdout",
     "output_type": "stream",
     "text": [
      "Ruta para ir de R a M2: (2,2)-->(2,1)-->(2,0)\n"
     ]
    },
    {
     "data": {
      "image/png": "[encoded data removed]",
      "text/plain": [
       "<Figure size 432x288 with 1 Axes>"
      ]
     },
     "metadata": {},
     "output_type": "display_data"
    }
   ],
   "source": [
    "##### Movimiento 1: Robot recoge M2 de posición origen\n",
    "ruta_robot_m2 = a_star(posicion_robot, posicion_m2_origen, tabla)\n",
    "# Actualizamos los movimientos realizados y la nueva posición de partida del robot\n",
    "posicion_robot = ruta_robot_m2[-1:][0]\n",
    "actualiza_tabla(tabla, ruta_robot_m2)\n",
    "print('Ruta para ir de R a M2: ' + str(prettify_ruta(ruta_robot_m2)))\n",
    "imprime_tabla(tabla, ruta_robot_m2)"
   ]
  },
  {
   "cell_type": "code",
   "execution_count": 7,
   "metadata": {},
   "outputs": [
    {
     "name": "stdout",
     "output_type": "stream",
     "text": [
      "Ruta para mover M2 a posición destino:(2,0)-->(2,1)-->(3,1)-->(3,2)\n"
     ]
    },
    {
     "data": {
      "image/png": "[encoded data removed]",
      "text/plain": [
       "<Figure size 432x288 with 1 Axes>"
      ]
     },
     "metadata": {},
     "output_type": "display_data"
    }
   ],
   "source": [
    "##### Movimiento 2: Robot mueve M2 de posición origen a posición destino\n",
    "ruta_m2_destino = a_star(posicion_robot, posicion_m2_destino, tabla)\n",
    "# Actualizamos los movimientos realizados y la nueva posición de partida del robot\n",
    "posicion_robot = ruta_m2_destino[-1:][0]\n",
    "actualiza_tabla(tabla, ruta_m2_destino)\n",
    "print('Ruta para mover M2 a posición destino:' + str(prettify_ruta(ruta_m2_destino)))\n",
    "imprime_tabla(tabla, ruta_m2_destino)"
   ]
  },
  {
   "cell_type": "code",
   "execution_count": 8,
   "metadata": {},
   "outputs": [
    {
     "name": "stdout",
     "output_type": "stream",
     "text": [
      "Ruta para ir de R a M1:(3,2)-->(3,1)-->(3,0)-->(2,0)-->(1,0)-->(0,0)\n"
     ]
    },
    {
     "data": {
      "image/png": "[encoded data removed]",
      "text/plain": [
       "<Figure size 432x288 with 1 Axes>"
      ]
     },
     "metadata": {},
     "output_type": "display_data"
    }
   ],
   "source": [
    "##### Movimiento 3: Robot recoge M1 de posición origen\n",
    "ruta_robot_m1 = a_star(posicion_robot, posicion_m1_origen, tabla)\n",
    "# Actualizamos los movimientos realizados y la nueva posición de partida del robot\n",
    "posicion_robot = ruta_robot_m1[-1:][0]\n",
    "actualiza_tabla(tabla, ruta_robot_m1)\n",
    "print('Ruta para ir de R a M1:' + str(prettify_ruta(ruta_robot_m1)))\n",
    "imprime_tabla(tabla, ruta_robot_m1)"
   ]
  },
  {
   "cell_type": "code",
   "execution_count": 9,
   "metadata": {},
   "outputs": [
    {
     "name": "stdout",
     "output_type": "stream",
     "text": [
      "Ruta para mover M1 a posición destino:(0,0)-->(1,0)-->(2,0)-->(2,1)-->(2,2)-->(2,3)-->(3,3)\n"
     ]
    },
    {
     "data": {
      "image/png": "[encoded data removed]",
      "text/plain": [
       "<Figure size 432x288 with 1 Axes>"
      ]
     },
     "metadata": {},
     "output_type": "display_data"
    }
   ],
   "source": [
    "##### Movimiento 4: Robot mueve M1 de posición origen a posición destino\n",
    "ruta_m1_destino = a_star(posicion_robot, posicion_m1_destino, tabla)\n",
    "# Actualizamos los movimientos realizados y la nueva posición de partida del robot\n",
    "posicion_robot = ruta_m1_destino[-1:][0]\n",
    "actualiza_tabla(tabla, ruta_m1_destino)\n",
    "print('Ruta para mover M1 a posición destino:' + str(prettify_ruta(ruta_m1_destino)))\n",
    "imprime_tabla(tabla, ruta_m1_destino)"
   ]
  },
  {
   "cell_type": "code",
   "execution_count": 10,
   "metadata": {},
   "outputs": [
    {
     "name": "stdout",
     "output_type": "stream",
     "text": [
      "Ruta para ir de R a M3:(3,3)-->(2,3)-->(1,3)-->(0,3)\n"
     ]
    },
    {
     "data": {
      "image/png": "[encoded data removed]",
      "text/plain": [
       "<Figure size 432x288 with 1 Axes>"
      ]
     },
     "metadata": {},
     "output_type": "display_data"
    }
   ],
   "source": [
    "##### Movimiento 5: Robot recoge M3 de posición origen\n",
    "ruta_robot_m3 = a_star(posicion_robot, posicion_m3_origen, tabla)\n",
    "# Actualizamos los movimientos realizados y la nueva posición de partida del robot\n",
    "posicion_robot = ruta_robot_m3[-1:][0]\n",
    "actualiza_tabla(tabla, ruta_robot_m3)\n",
    "print('Ruta para ir de R a M3:' + str(prettify_ruta(ruta_robot_m3)))\n",
    "imprime_tabla(tabla, ruta_robot_m3)"
   ]
  },
  {
   "cell_type": "code",
   "execution_count": 11,
   "metadata": {},
   "outputs": [
    {
     "name": "stdout",
     "output_type": "stream",
     "text": [
      "Ruta para mover M3 a posición destino:(0,3)-->(0,2)-->(1,2)-->(2,2)-->(2,1)-->(3,1)\n"
     ]
    },
    {
     "data": {
      "image/png": "[encoded data removed]",
      "text/plain": [
       "<Figure size 432x288 with 1 Axes>"
      ]
     },
     "metadata": {},
     "output_type": "display_data"
    }
   ],
   "source": [
    "##### Movimiento 6: Robot mueve M3 de posición origen a posición destino\n",
    "ruta_m3_destino = a_star(posicion_robot, posicion_m3_destino, tabla)\n",
    "# Actualizamos los movimientos realizados y la nueva posición de partida del robot\n",
    "posicion_robot = ruta_m3_destino[-1:][0]\n",
    "actualiza_tabla(tabla, ruta_m3_destino)\n",
    "print('Ruta para mover M3 a posición destino:' + str(prettify_ruta(ruta_m3_destino)))\n",
    "imprime_tabla(tabla, ruta_m3_destino)"
   ]
  },
  {
   "cell_type": "markdown",
   "metadata": {},
   "source": [
    "## Resultados obtenidos\n",
    "\n",
    "Con esto tenemos solucionado el problema y como se puede observar, el robot es capaz de mover todos los inventarios a las posiciones que se indican en el enunciado.\n",
    "\n",
    "No obstante, hay una cosa que no se ha tenido en cuenta. En el apartado anterior hemos ido indicando al robot en qué orden queremos que mueva los inventarios, empezando por M2, luego M1 y finalmente M3. \n",
    "\n",
    "¿Qué pasaría si le indicamos de primeras que mueva M1 a la posición destino?\n",
    "\n",
    "En ese caso no podría ya que se encontraría por un lado la pared como obstáculo y por otro el inventario M2, por lo tanto sería incapaz de encontrar una ruta.\n",
    "\n",
    "Teniendo en cuenta que el algoritmo A* que hemos programado lanza una excepción cuando no es capaz de encontrar una ruta, vamos a intentar jugar con ello para que el robot sea completamente autónomo y sea capaz de mover todos los inventarios independientemente del orden. Es mas, no le diremos ningún orden, simplemente recibirá como entrada el nombre de los inventarios que debe mover y a dónde, y él deberá ser capaz de realizar el trabajo."
   ]
  },
  {
   "cell_type": "markdown",
   "metadata": {},
   "source": [
    "Definimos una nueva estructura de datos que contendrá las órdenes de trabajo para el robot. Esto será el único input que tendremos que darle y él debe ser completamente autónomo para resolver el problema."
   ]
  },
  {
   "cell_type": "code",
   "execution_count": 12,
   "metadata": {},
   "outputs": [],
   "source": [
    "class Trabajo:\n",
    "    def __init__(self, origen, destino, descripcion):\n",
    "        self.origen = origen\n",
    "        self.destino = destino\n",
    "        self.realizado = False\n",
    "        self.descripcion = descripcion"
   ]
  },
  {
   "cell_type": "markdown",
   "metadata": {},
   "source": [
    "Volvemos a inicializar el tablero para volver al estado inicial que nos indican en el enunciado"
   ]
  },
  {
   "cell_type": "code",
   "execution_count": 13,
   "metadata": {},
   "outputs": [],
   "source": [
    "tabla = [\n",
    "    [Node('M1', (0,0))  , Node('#', (0,1)), Node('' , (0,2)), Node('M3', (0,3))],\n",
    "    [Node(''  , (1,0))  , Node('#', (1,1)), Node('' , (1,2)), Node(''  , (1,3))],\n",
    "    [Node('M2', (2,0))  , Node('' , (2,1)), Node('R', (2,2)), Node(''  , (2,3))],\n",
    "    [Node(''  , (3,0))  , Node('' , (3,1)), Node('' , (3,2)), Node(''  , (3,3))]\n",
    "]\n",
    "\n",
    "# posicion robot\n",
    "posicion_robot = tabla[2][2]\n",
    "\n",
    "# posiciones M2\n",
    "posicion_m2_origen = tabla[2][0]\n",
    "posicion_m2_destino = tabla[3][2]\n",
    "\n",
    "# posiciones M1\n",
    "posicion_m1_origen = tabla[0][0]\n",
    "posicion_m1_destino = tabla[3][3]\n",
    "\n",
    "# posiciones M3\n",
    "posicion_m3_origen = tabla[0][3]\n",
    "posicion_m3_destino = tabla[3][1]"
   ]
  },
  {
   "cell_type": "markdown",
   "metadata": {},
   "source": [
    "Definimos los trabajos a realizar. En nuestro caso tendremos uno por inventario, y los añadiremos a la lista tareas_pendientes"
   ]
  },
  {
   "cell_type": "code",
   "execution_count": 14,
   "metadata": {},
   "outputs": [],
   "source": [
    "trabajo_inventario_m1 = Trabajo(posicion_m1_origen, posicion_m1_destino, 'mover M1')\n",
    "trabajo_inventario_m2 = Trabajo(posicion_m2_origen, posicion_m2_destino, 'mover M2')\n",
    "trabajo_inventario_m3 = Trabajo(posicion_m3_origen, posicion_m3_destino, 'mover M3')\n",
    "\n",
    "tareas_pendientes = [trabajo_inventario_m1, trabajo_inventario_m2, trabajo_inventario_m3]"
   ]
  },
  {
   "cell_type": "markdown",
   "metadata": {},
   "source": [
    "Para añadir aún más aleatoriedad al orden de ejecución, importamos la función random de python y descolocamos la lista para que los trabajos a realizar tengan un orden distinto al predefinido.\n",
    "\n",
    "De este modo, algunas veces llevará el orden M1,M2,M3 pero otras M2,M1,M3 o M3,M1,M2... Independientemente de cómo quede el resultado el robot debe ser capaz de completar el plan"
   ]
  },
  {
   "cell_type": "code",
   "execution_count": 15,
   "metadata": {},
   "outputs": [],
   "source": [
    "import random\n",
    "random.shuffle(tareas_pendientes)"
   ]
  },
  {
   "cell_type": "markdown",
   "metadata": {},
   "source": [
    "Y aquí llega la solución final propuesta. La función realiza_trabajo recibe como input la lista de tareas que debe realizar el robot, y debe ser éste el encargado de solucionarlas sin que le digamos nada más.\n",
    "\n",
    "Para ello hacemos uso del manejo de excepciones en Python, de modo que si el algoritmo no encuentra ninguna ruta, pasamos a la siguiente tarea y dejamos esta para otro momento. De este modo, llegará el momento en el que siempre mueva M2 antes que M1, por lo que no tendrá ningún problema y siempre podrá encontrar rutas."
   ]
  },
  {
   "cell_type": "code",
   "execution_count": 16,
   "metadata": {},
   "outputs": [],
   "source": [
    "def realiza_trabajo(posicion_robot, tareas):\n",
    "    \"\"\"\n",
    "    Esta función itera sobre la lista de tareas a realizar y las va resolviendo. Según vaya resolviendo tareas, \n",
    "    las elimina de la lista, lo cual será la condición de parada del bucle 'while'\n",
    "    Si no encuentra ninguna ruta posible para una tarea dada, captura la excepción y pasa a la siguiente\n",
    "    :param posicion_robot: Posición de partida en la que se encuentra el robot\n",
    "    :param tareas: Lista de tareas a realizar desordenada de forma completamente aleatoria\n",
    "    \"\"\"\n",
    "    while tareas:\n",
    "        for tarea in tareas:\n",
    "            print('Realizando tarea: ' + str(tarea.descripcion))\n",
    "            try:\n",
    "                print('Buscando inventario...')\n",
    "                ruta, posicion_robot = carga_inventario(posicion_robot, tarea.origen, tabla)\n",
    "                imprime_tabla(tabla, ruta)\n",
    "                ruta, posicion_robot = mueve_inventario(posicion_robot, tarea.destino, tabla)\n",
    "                imprime_tabla(tabla, ruta)\n",
    "                tareas.remove(tarea)\n",
    "                print('Tareas pendientes: ' + str(len(tareas)))\n",
    "            except:\n",
    "                print('Ninguna ruta fue encontrada... pasamos a la siguiente tarea')\n",
    "                continue\n",
    "                \n",
    "def carga_inventario(posicion_robot, pos_inventario, tabla):\n",
    "    \"\"\"\n",
    "    Simula el movimiento del robot para ir a cargar un inventario    \n",
    "    :param posicion_robot: Posición actual del robot\n",
    "    :param posicion_inventario: Posición donde se encuentra el inventario\n",
    "    :param tabla: Información del estado actual del tablero con todos los nodos\n",
    "    \"\"\"\n",
    "    ruta = a_star(posicion_robot, pos_inventario, tabla)\n",
    "    posicion_robot = ruta[-1:][0]\n",
    "    actualiza_tabla(tabla, ruta)\n",
    "    print(prettify_ruta(ruta))\n",
    "    print('Inventario cargado!')\n",
    "    return ruta, posicion_robot\n",
    "\n",
    "def mueve_inventario(pos_origen, pos_destino, tabla):\n",
    "    \"\"\"\n",
    "    Simula el movimiento del robot para llevar un inventario del punto A al punto B\n",
    "    :param pos_origen: Posición origen del inventario\n",
    "    :param pos_destino: Posición objetivo del inventario\n",
    "    :param tabla: Información del estado actual del tablero con todos los nodos    \n",
    "    \"\"\"\n",
    "    ruta = a_star(pos_origen, pos_destino, tabla)\n",
    "    posicion_robot = ruta[-1:][0]\n",
    "    actualiza_tabla(tabla, ruta)\n",
    "    print(prettify_ruta(ruta))\n",
    "    print('Inventario desplazado!')\n",
    "    return ruta, posicion_robot"
   ]
  },
  {
   "cell_type": "markdown",
   "metadata": {},
   "source": [
    "Finalmente, procedemos a ejecutar la función y observamos los resultados"
   ]
  },
  {
   "cell_type": "code",
   "execution_count": 17,
   "metadata": {},
   "outputs": [
    {
     "name": "stdout",
     "output_type": "stream",
     "text": [
      "Realizando tarea: mover M3\n",
      "Buscando inventario...\n",
      "(2,2)-->(1,2)-->(0,2)-->(0,3)\n",
      "Inventario cargado!\n",
      "(0,3)-->(0,2)-->(1,2)-->(2,2)-->(3,2)-->(3,1)\n",
      "Inventario desplazado!\n",
      "Tareas pendientes: 2\n",
      "Realizando tarea: mover M1\n",
      "Buscando inventario...\n",
      "Ninguna ruta fue encontrada... pasamos a la siguiente tarea\n",
      "Realizando tarea: mover M2\n",
      "Buscando inventario...\n",
      "(3,1)-->(2,1)-->(2,0)\n",
      "Inventario cargado!\n",
      "(2,0)-->(2,1)-->(2,2)-->(3,2)\n",
      "Inventario desplazado!\n",
      "Tareas pendientes: 1\n",
      "Realizando tarea: mover M1\n",
      "Buscando inventario...\n",
      "(3,2)-->(2,2)-->(2,1)-->(2,0)-->(1,0)-->(0,0)\n",
      "Inventario cargado!\n",
      "(0,0)-->(1,0)-->(2,0)-->(2,1)-->(2,2)-->(2,3)-->(3,3)\n",
      "Inventario desplazado!\n",
      "Tareas pendientes: 0\n"
     ]
    },
    {
     "data": {
      "image/png": "[encoded data removed]",
      "text/plain": [
       "<Figure size 432x288 with 1 Axes>"
      ]
     },
     "metadata": {},
     "output_type": "display_data"
    },
    {
     "data": {
      "image/png": "[encoded data removed]",
      "text/plain": [
       "<Figure size 432x288 with 1 Axes>"
      ]
     },
     "metadata": {},
     "output_type": "display_data"
    },
    {
     "data": {
      "image/png": "[encoded data removed]",
      "text/plain": [
       "<Figure size 432x288 with 1 Axes>"
      ]
     },
     "metadata": {},
     "output_type": "display_data"
    },
    {
     "data": {
      "image/png": "[encoded data removed]",
      "text/plain": [
       "<Figure size 432x288 with 1 Axes>"
      ]
     },
     "metadata": {},
     "output_type": "display_data"
    },
    {
     "data": {
      "image/png": "[encoded data removed]",
      "text/plain": [
       "<Figure size 432x288 with 1 Axes>"
      ]
     },
     "metadata": {},
     "output_type": "display_data"
    },
    {
     "data": {
      "image/png": "[encoded data removed]",
      "text/plain": [
       "<Figure size 432x288 with 1 Axes>"
      ]
     },
     "metadata": {},
     "output_type": "display_data"
    }
   ],
   "source": [
    "realiza_trabajo(posicion_robot, tareas_pendientes)"
   ]
  }
 ],
 "metadata": {
  "colab": {
   "collapsed_sections": [],
   "name": "Act_2_Amazon_Robot_0125.ipynb",
   "provenance": []
  },
  "kernelspec": {
   "display_name": "Python 3",
   "language": "python",
   "name": "python3"
  },
  "language_info": {
   "codemirror_mode": {
    "name": "ipython",
    "version": 3
   },
   "file_extension": ".py",
   "mimetype": "text/x-python",
   "name": "python",
   "nbconvert_exporter": "python",
   "pygments_lexer": "ipython3",
   "version": "3.7.9"
  }
 },
 "nbformat": 4,
 "nbformat_minor": 2
}
